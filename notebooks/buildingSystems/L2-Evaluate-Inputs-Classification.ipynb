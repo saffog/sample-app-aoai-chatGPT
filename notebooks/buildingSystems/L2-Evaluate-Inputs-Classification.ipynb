{
 "cells": [
  {
   "cell_type": "markdown",
   "id": "142baebb",
   "metadata": {},
   "source": [
    "## Follow up with Azure OpenAI the course Building Systems with the ChatGPT API\n",
    "\n",
    "### L2: Evaluate Inputs: Classification\n",
    "\n",
    "This notebook is based on the course: [Evaluate Inputs: classification](https://learn.deeplearning.ai/chatgpt-building-system/lesson/3/classification)"
   ]
  },
  {
   "cell_type": "code",
   "execution_count": 11,
   "id": "8eba0c32",
   "metadata": {},
   "outputs": [],
   "source": [
    "import os\n",
    "import openai # this will require pip install openai\n",
    "import tiktoken # this will require pip install tiktoken\n",
    "from dotenv import load_dotenv, find_dotenv\n",
    "_ = load_dotenv(find_dotenv()) # read local .env file\n",
    "\n",
    "openai.api_key  = os.getenv('AZURE_OPENAI_KEY')\n",
    "openai.api_type = \"azure\"\n",
    "openai.api_version = \"2023-08-01-preview\"\n",
    "openai.api_base = \"https://cog-moww6huavlklg.openai.azure.com/\"\n"
   ]
  },
  {
   "cell_type": "code",
   "execution_count": 4,
   "id": "15531e48",
   "metadata": {},
   "outputs": [],
   "source": [
    "def get_completion_from_messages(messages, \n",
    "                                 model=\"gpt-3.5-turbo\",\n",
    "                                 deployment=\"chat\",\n",
    "                                 printResponse=False,\n",
    "                                 temperature=0, \n",
    "                                 max_tokens=500):\n",
    "    response = openai.ChatCompletion.create(\n",
    "        model=model,\n",
    "        messages=messages,\n",
    "        engine=deployment,\n",
    "        temperature=temperature, # this is the degree of randomness of the model's output\n",
    "        max_tokens=max_tokens, # the maximum number of tokens the model can ouptut \n",
    "    )\n",
    "    if printResponse:\n",
    "        print(response)\n",
    "    return response.choices[0].message[\"content\"]"
   ]
  },
  {
   "cell_type": "markdown",
   "id": "fcd434df",
   "metadata": {},
   "source": [
    "#### Classify customer queries to handle different cases"
   ]
  },
  {
   "cell_type": "code",
   "execution_count": 5,
   "id": "e0aadde8",
   "metadata": {},
   "outputs": [
    {
     "name": "stdout",
     "output_type": "stream",
     "text": [
      "{\n",
      "  \"primary\": \"Account Management\",\n",
      "  \"secondary\": \"Close account\"\n",
      "}\n"
     ]
    }
   ],
   "source": [
    "delimiter = \"####\"\n",
    "system_message = f\"\"\"\n",
    "You will be provided with customer service queries. \\\n",
    "The customer service query will be delimited with \\\n",
    "{delimiter} characters.\n",
    "Classify each query into a primary category \\\n",
    "and a secondary category. \n",
    "Provide your output in json format with the \\\n",
    "keys: primary and secondary.\n",
    "\n",
    "Primary categories: Billing, Technical Support, \\\n",
    "Account Management, or General Inquiry.\n",
    "\n",
    "Billing secondary categories:\n",
    "Unsubscribe or upgrade\n",
    "Add a payment method\n",
    "Explanation for charge\n",
    "Dispute a charge\n",
    "\n",
    "Technical Support secondary categories:\n",
    "General troubleshooting\n",
    "Device compatibility\n",
    "Software updates\n",
    "\n",
    "Account Management secondary categories:\n",
    "Password reset\n",
    "Update personal information\n",
    "Close account\n",
    "Account security\n",
    "\n",
    "General Inquiry secondary categories:\n",
    "Product information\n",
    "Pricing\n",
    "Feedback\n",
    "Speak to a human\n",
    "\n",
    "\"\"\"\n",
    "user_message = f\"\"\"\\\n",
    "I want you to delete my profile and all of my user data\"\"\"\n",
    "messages =  [  \n",
    "{'role':'system', \n",
    " 'content': system_message},    \n",
    "{'role':'user', \n",
    " 'content': f\"{delimiter}{user_message}{delimiter}\"},  \n",
    "] \n",
    "response = get_completion_from_messages(messages)\n",
    "print(response)"
   ]
  },
  {
   "cell_type": "code",
   "execution_count": 6,
   "id": "d7170e5a",
   "metadata": {},
   "outputs": [
    {
     "name": "stdout",
     "output_type": "stream",
     "text": [
      "{\n",
      "  \"primary\": \"General Inquiry\",\n",
      "  \"secondary\": \"Product information\"\n",
      "}\n"
     ]
    }
   ],
   "source": [
    "user_message = f\"\"\"\\\n",
    "Tell me more about your flat screen tvs\"\"\"\n",
    "messages =  [  \n",
    "{'role':'system', \n",
    " 'content': system_message},    \n",
    "{'role':'user', \n",
    " 'content': f\"{delimiter}{user_message}{delimiter}\"},  \n",
    "] \n",
    "response = get_completion_from_messages(messages)\n",
    "print(response)"
   ]
  },
  {
   "cell_type": "code",
   "execution_count": 7,
   "id": "40e97985",
   "metadata": {},
   "outputs": [
    {
     "name": "stdout",
     "output_type": "stream",
     "text": [
      "{\n",
      "  \"primaria\": \"Manejo de cuentas\",\n",
      "  \"secundaria\": \"Cerrar cuenta\"\n",
      "}\n"
     ]
    }
   ],
   "source": [
    "delimiter = \"####\"\n",
    "system_message = f\"\"\"\n",
    "Se te proporcionarán consultas de empleados de Baufest \\\n",
    "La consulta de los empleados de Baufest estará delimitada por \\\n",
    "los siguientes caracteres {delimiter}\n",
    "\n",
    "Clasifica cada consulta en una categoría principal \\\n",
    "y una categoría secundaria.\n",
    "Proporciona tu respuesta en español y en un formato json \\\n",
    "con las llaves: primaria y secundaria\n",
    "\n",
    "Categorías primarias: Contabilidad, Soporte Técnico \\\n",
    "Manejo de cuentas o consultas generales\n",
    "\n",
    "Categorías secundarias de Contabilidad:\n",
    "Darse de baja o actualizar\n",
    "Añade un metodo de pago\n",
    "Explicación del cargo\n",
    "Disputar un cargo\n",
    "\n",
    "Categorías secundarias de Soporte Técnico:\n",
    "Solución de problemas generales\n",
    "Compatibilidad del dispositivo\n",
    "Actualizaciones de software\n",
    "\n",
    "Categorías secundarias de Manejo de cuentas:\n",
    "Restablecimiento de contraseña\n",
    "Actualizar información personal\n",
    "Cerrar cuenta\n",
    "Seguridad de la cuenta\n",
    "\n",
    "Categorías secundarias de Consultas generales:\n",
    "Información del Producto\n",
    "Precios\n",
    "Comentario\n",
    "hablar con un humano\n",
    "\n",
    "\"\"\"\n",
    "user_message = f\"\"\"\\\n",
    "Quiero eliminar mi perfil y mi cuenta\"\"\"\n",
    "\n",
    "messages =  [  \n",
    "{'role':'system', \n",
    " 'content': system_message},    \n",
    "{'role':'user', \n",
    " 'content': f\"{delimiter}{user_message}{delimiter}\"},  \n",
    "] \n",
    "\n",
    "response = get_completion_from_messages(messages)\n",
    "print(response)"
   ]
  },
  {
   "cell_type": "code",
   "execution_count": 8,
   "id": "c91eff22",
   "metadata": {},
   "outputs": [
    {
     "name": "stdout",
     "output_type": "stream",
     "text": [
      "{\n",
      "  \"primaria\": \"Consultas generales\",\n",
      "  \"secundaria\": \"Información del Producto\"\n",
      "}\n"
     ]
    }
   ],
   "source": [
    "user_message = f\"\"\"\\\n",
    "Podría darme mayor detalle de la cafetera mastreta\"\"\"\n",
    "messages =  [  \n",
    "{'role':'system', \n",
    " 'content': system_message},    \n",
    "{'role':'user', \n",
    " 'content': f\"{delimiter}{user_message}{delimiter}\"},  \n",
    "] \n",
    "response = get_completion_from_messages(messages)\n",
    "print(response)"
   ]
  },
  {
   "cell_type": "code",
   "execution_count": 9,
   "id": "74dfb458",
   "metadata": {},
   "outputs": [
    {
     "name": "stdout",
     "output_type": "stream",
     "text": [
      "{\n",
      "  \"primaria\": \"Consultas generales\",\n",
      "  \"secundaria\": \"Información del Producto\"\n",
      "}\n"
     ]
    }
   ],
   "source": [
    "user_message = f\"\"\"\\\n",
    "Podría darme mayor detalle de los beneficios Baufest como empleado\"\"\"\n",
    "messages =  [  \n",
    "{'role':'system', \n",
    " 'content': system_message},    \n",
    "{'role':'user', \n",
    " 'content': f\"{delimiter}{user_message}{delimiter}\"},  \n",
    "] \n",
    "response = get_completion_from_messages(messages)\n",
    "print(response)"
   ]
  },
  {
   "cell_type": "code",
   "execution_count": 10,
   "id": "e1e8e794",
   "metadata": {},
   "outputs": [
    {
     "name": "stdout",
     "output_type": "stream",
     "text": [
      "{\n",
      "  \"primaria\": \"Contabilidad\",\n",
      "  \"secundaria\": \"Explicación del cargo\"\n",
      "}\n"
     ]
    }
   ],
   "source": [
    "user_message = f\"\"\"\\\n",
    "Por qué me hicieron un cargo por 5000 pesos\"\"\"\n",
    "messages =  [  \n",
    "{'role':'system', \n",
    " 'content': system_message},    \n",
    "{'role':'user', \n",
    " 'content': f\"{delimiter}{user_message}{delimiter}\"},  \n",
    "] \n",
    "response = get_completion_from_messages(messages)\n",
    "print(response)"
   ]
  },
  {
   "cell_type": "code",
   "execution_count": null,
   "id": "108db69b",
   "metadata": {},
   "outputs": [],
   "source": []
  }
 ],
 "metadata": {
  "kernelspec": {
   "display_name": "Python 3 (ipykernel)",
   "language": "python",
   "name": "python3"
  },
  "language_info": {
   "codemirror_mode": {
    "name": "ipython",
    "version": 3
   },
   "file_extension": ".py",
   "mimetype": "text/x-python",
   "name": "python",
   "nbconvert_exporter": "python",
   "pygments_lexer": "ipython3",
   "version": "3.11.5"
  }
 },
 "nbformat": 4,
 "nbformat_minor": 5
}
