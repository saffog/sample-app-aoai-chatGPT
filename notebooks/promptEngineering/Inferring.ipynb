{
 "cells": [
  {
   "cell_type": "markdown",
   "id": "24476f93",
   "metadata": {},
   "source": [
    "## Follow up with Azure OpenAI the course ChatGPT Prompt Engineering for Developers\n",
    "\n",
    "### Inferring\n",
    "\n",
    "This notebook is based on the course: [chatgpt prompt eng: Inferring](https://learn.deeplearning.ai/chatgpt-prompt-eng/lesson/5/inferring)"
   ]
  },
  {
   "cell_type": "code",
   "execution_count": 1,
   "id": "e8cc1519",
   "metadata": {},
   "outputs": [],
   "source": [
    "import openai\n",
    "import os\n",
    "\n",
    "from dotenv import load_dotenv, find_dotenv\n",
    "_ = load_dotenv(find_dotenv())\n",
    "\n",
    "openai.api_key  = os.getenv('AZURE_OPENAI_KEY')\n",
    "openai.api_type = \"azure\"\n",
    "openai.api_version = \"2023-08-01-preview\"\n",
    "openai.api_base = \"https://cog-moww6huavlklg.openai.azure.com/\"\n"
   ]
  },
  {
   "cell_type": "code",
   "execution_count": 30,
   "id": "71e182df",
   "metadata": {},
   "outputs": [],
   "source": [
    "def get_completion(prompt, model=\"gpt-3.5-turbo\",deployment=\"chat\", showAllResponse=False):\n",
    "    messages = [{\"role\": \"user\", \"content\": prompt}]\n",
    "    response = openai.ChatCompletion.create(\n",
    "        model=model,\n",
    "        engine=deployment,\n",
    "        messages=messages,\n",
    "        temperature=0, # this is the degree of randomness of the model's output\n",
    "    )\n",
    "    if showAllResponse:\n",
    "        print(response)\n",
    "    return response.choices[0].message[\"content\"]"
   ]
  },
  {
   "cell_type": "markdown",
   "id": "802a74ba",
   "metadata": {},
   "source": [
    "## Product review text"
   ]
  },
  {
   "cell_type": "code",
   "execution_count": 4,
   "id": "39eec6c0",
   "metadata": {},
   "outputs": [],
   "source": [
    "lamp_review = \"\"\"\n",
    "Needed a nice lamp for my bedroom, and this one had \\\n",
    "additional storage and not too high of a price point. \\\n",
    "Got it fast.  The string to our lamp broke during the \\\n",
    "transit and the company happily sent over a new one. \\\n",
    "Came within a few days as well. It was easy to put \\\n",
    "together.  I had a missing part, so I contacted their \\\n",
    "support and they very quickly got me the missing piece! \\\n",
    "Lumina seems to me to be a great company that cares \\\n",
    "about their customers and products!!\n",
    "\"\"\""
   ]
  },
  {
   "cell_type": "markdown",
   "id": "59a7bfb4",
   "metadata": {},
   "source": [
    "## Sentiment (positive/negative)"
   ]
  },
  {
   "cell_type": "code",
   "execution_count": 5,
   "id": "02898cb7",
   "metadata": {},
   "outputs": [
    {
     "name": "stdout",
     "output_type": "stream",
     "text": [
      "{\n",
      "  \"choices\": [\n",
      "    {\n",
      "      \"content_filter_results\": {\n",
      "        \"hate\": {\n",
      "          \"filtered\": false,\n",
      "          \"severity\": \"safe\"\n",
      "        },\n",
      "        \"self_harm\": {\n",
      "          \"filtered\": false,\n",
      "          \"severity\": \"safe\"\n",
      "        },\n",
      "        \"sexual\": {\n",
      "          \"filtered\": false,\n",
      "          \"severity\": \"safe\"\n",
      "        },\n",
      "        \"violence\": {\n",
      "          \"filtered\": false,\n",
      "          \"severity\": \"safe\"\n",
      "        }\n",
      "      },\n",
      "      \"finish_reason\": \"stop\",\n",
      "      \"index\": 0,\n",
      "      \"message\": {\n",
      "        \"content\": \"The sentiment of the product review is positive.\",\n",
      "        \"role\": \"assistant\"\n",
      "      }\n",
      "    }\n",
      "  ],\n",
      "  \"created\": 1704398881,\n",
      "  \"id\": \"chatcmpl-8dOIT0h7wa20vHUHvYmvrDGNYH2jI\",\n",
      "  \"model\": \"gpt-35-turbo\",\n",
      "  \"object\": \"chat.completion\",\n",
      "  \"prompt_filter_results\": [\n",
      "    {\n",
      "      \"content_filter_results\": {\n",
      "        \"hate\": {\n",
      "          \"filtered\": false,\n",
      "          \"severity\": \"safe\"\n",
      "        },\n",
      "        \"self_harm\": {\n",
      "          \"filtered\": false,\n",
      "          \"severity\": \"safe\"\n",
      "        },\n",
      "        \"sexual\": {\n",
      "          \"filtered\": false,\n",
      "          \"severity\": \"safe\"\n",
      "        },\n",
      "        \"violence\": {\n",
      "          \"filtered\": false,\n",
      "          \"severity\": \"safe\"\n",
      "        }\n",
      "      },\n",
      "      \"prompt_index\": 0\n",
      "    }\n",
      "  ],\n",
      "  \"usage\": {\n",
      "    \"completion_tokens\": 9,\n",
      "    \"prompt_tokens\": 135,\n",
      "    \"total_tokens\": 144\n",
      "  }\n",
      "}\n",
      "The sentiment of the product review is positive.\n"
     ]
    }
   ],
   "source": [
    "prompt = f\"\"\"\n",
    "What is the sentiment of the following product review, \n",
    "which is delimited with triple backticks?\n",
    "\n",
    "Review text: '''{lamp_review}'''\n",
    "\"\"\"\n",
    "response = get_completion(prompt,showAllResponse=True)\n",
    "print(response)"
   ]
  },
  {
   "cell_type": "code",
   "execution_count": 6,
   "id": "4efbe0bd",
   "metadata": {},
   "outputs": [
    {
     "name": "stdout",
     "output_type": "stream",
     "text": [
      "positive\n"
     ]
    }
   ],
   "source": [
    "prompt = f\"\"\"\n",
    "What is the sentiment of the following product review, \n",
    "which is delimited with triple backticks?\n",
    "\n",
    "Give your answer as a single word, either \"positive\" \\\n",
    "or \"negative\".\n",
    "\n",
    "Review text: '''{lamp_review}'''\n",
    "\"\"\"\n",
    "response = get_completion(prompt)\n",
    "print(response)"
   ]
  },
  {
   "cell_type": "markdown",
   "id": "380a7a0a",
   "metadata": {},
   "source": [
    "## Identify types of emotions"
   ]
  },
  {
   "cell_type": "code",
   "execution_count": 7,
   "id": "228951ef",
   "metadata": {},
   "outputs": [
    {
     "name": "stdout",
     "output_type": "stream",
     "text": [
      "happy, satisfied, grateful, impressed, content\n"
     ]
    }
   ],
   "source": [
    "prompt = f\"\"\"\n",
    "Identify a list of emotions that the writer of the \\\n",
    "following review is expressing. Include no more than \\\n",
    "five items in the list. Format your answer as a list of \\\n",
    "lower-case words separated by commas.\n",
    "\n",
    "Review text: '''{lamp_review}'''\n",
    "\"\"\"\n",
    "response = get_completion(prompt)\n",
    "print(response)"
   ]
  },
  {
   "cell_type": "markdown",
   "id": "892cc750",
   "metadata": {},
   "source": [
    "## Identify anger"
   ]
  },
  {
   "cell_type": "code",
   "execution_count": 8,
   "id": "fe835f17",
   "metadata": {},
   "outputs": [
    {
     "name": "stdout",
     "output_type": "stream",
     "text": [
      "No\n"
     ]
    }
   ],
   "source": [
    "prompt = f\"\"\"\n",
    "Is the writer of the following review expressing anger?\\\n",
    "The review is delimited with triple backticks. \\\n",
    "Give your answer as either yes or no.\n",
    "\n",
    "Review text: '''{lamp_review}'''\n",
    "\"\"\"\n",
    "response = get_completion(prompt)\n",
    "print(response)"
   ]
  },
  {
   "cell_type": "markdown",
   "id": "84db2bf9",
   "metadata": {},
   "source": [
    "## Extract product and company name from customer reviews"
   ]
  },
  {
   "cell_type": "code",
   "execution_count": 9,
   "id": "3760cf20",
   "metadata": {},
   "outputs": [
    {
     "name": "stdout",
     "output_type": "stream",
     "text": [
      "{\n",
      "  \"Item\": \"lamp\",\n",
      "  \"Brand\": \"Lumina\"\n",
      "}\n"
     ]
    }
   ],
   "source": [
    "prompt = f\"\"\"\n",
    "Identify the following items from the review text: \n",
    "- Item purchased by reviewer\n",
    "- Company that made the item\n",
    "\n",
    "The review is delimited with triple backticks. \\\n",
    "Format your response as a JSON object with \\\n",
    "\"Item\" and \"Brand\" as the keys. \n",
    "If the information isn't present, use \"unknown\" \\\n",
    "as the value.\n",
    "Make your response as short as possible.\n",
    "  \n",
    "Review text: '''{lamp_review}'''\n",
    "\"\"\"\n",
    "response = get_completion(prompt)\n",
    "print(response)"
   ]
  },
  {
   "cell_type": "markdown",
   "id": "204b0b4d",
   "metadata": {},
   "source": [
    "## Doing multiple tasks at once"
   ]
  },
  {
   "cell_type": "code",
   "execution_count": 10,
   "id": "6dc20821",
   "metadata": {},
   "outputs": [
    {
     "name": "stdout",
     "output_type": "stream",
     "text": [
      "{\n",
      "  \"Sentiment\": \"positive\",\n",
      "  \"Anger\": false,\n",
      "  \"Item\": \"lamp with additional storage\",\n",
      "  \"Brand\": \"Lumina\"\n",
      "}\n"
     ]
    }
   ],
   "source": [
    "prompt = f\"\"\"\n",
    "Identify the following items from the review text: \n",
    "- Sentiment (positive or negative)\n",
    "- Is the reviewer expressing anger? (true or false)\n",
    "- Item purchased by reviewer\n",
    "- Company that made the item\n",
    "\n",
    "The review is delimited with triple backticks. \\\n",
    "Format your response as a JSON object with \\\n",
    "\"Sentiment\", \"Anger\", \"Item\" and \"Brand\" as the keys.\n",
    "If the information isn't present, use \"unknown\" \\\n",
    "as the value.\n",
    "Make your response as short as possible.\n",
    "Format the Anger value as a boolean.\n",
    "\n",
    "Review text: '''{lamp_review}'''\n",
    "\"\"\"\n",
    "response = get_completion(prompt)\n",
    "print(response)"
   ]
  },
  {
   "cell_type": "markdown",
   "id": "2465286b",
   "metadata": {},
   "source": [
    "## Inferring topics"
   ]
  },
  {
   "cell_type": "code",
   "execution_count": 11,
   "id": "0facc981",
   "metadata": {},
   "outputs": [],
   "source": [
    "story = \"\"\"\n",
    "In a recent survey conducted by the government, \n",
    "public sector employees were asked to rate their level \n",
    "of satisfaction with the department they work at. \n",
    "The results revealed that NASA was the most popular \n",
    "department with a satisfaction rating of 95%.\n",
    "\n",
    "One NASA employee, John Smith, commented on the findings, \n",
    "stating, \"I'm not surprised that NASA came out on top. \n",
    "It's a great place to work with amazing people and \n",
    "incredible opportunities. I'm proud to be a part of \n",
    "such an innovative organization.\"\n",
    "\n",
    "The results were also welcomed by NASA's management team, \n",
    "with Director Tom Johnson stating, \"We are thrilled to \n",
    "hear that our employees are satisfied with their work at NASA. \n",
    "We have a talented and dedicated team who work tirelessly \n",
    "to achieve our goals, and it's fantastic to see that their \n",
    "hard work is paying off.\"\n",
    "\n",
    "The survey also revealed that the \n",
    "Social Security Administration had the lowest satisfaction \n",
    "rating, with only 45% of employees indicating they were \n",
    "satisfied with their job. The government has pledged to \n",
    "address the concerns raised by employees in the survey and \n",
    "work towards improving job satisfaction across all departments.\n",
    "\"\"\""
   ]
  },
  {
   "cell_type": "markdown",
   "id": "3d80fd90",
   "metadata": {},
   "source": [
    "## Infer 5 topics"
   ]
  },
  {
   "cell_type": "code",
   "execution_count": 12,
   "id": "04d2f4f8",
   "metadata": {},
   "outputs": [
    {
     "name": "stdout",
     "output_type": "stream",
     "text": [
      "government survey, job satisfaction, NASA, Social Security Administration, employee concerns\n"
     ]
    }
   ],
   "source": [
    "prompt = f\"\"\"\n",
    "Determine five topics that are being discussed in the \\\n",
    "following text, which is delimited by triple backticks.\n",
    "\n",
    "Make each item one or two words long. \n",
    "\n",
    "Format your response as a list of items separated by commas.\n",
    "\n",
    "Text sample: '''{story}'''\n",
    "\"\"\"\n",
    "response = get_completion(prompt)\n",
    "print(response)"
   ]
  },
  {
   "cell_type": "code",
   "execution_count": 13,
   "id": "edb87920",
   "metadata": {},
   "outputs": [
    {
     "data": {
      "text/plain": [
       "['government survey',\n",
       " ' job satisfaction',\n",
       " ' NASA',\n",
       " ' Social Security Administration',\n",
       " ' employee concerns']"
      ]
     },
     "execution_count": 13,
     "metadata": {},
     "output_type": "execute_result"
    }
   ],
   "source": [
    "response.split(sep=',')"
   ]
  },
  {
   "cell_type": "code",
   "execution_count": 14,
   "id": "ff6e5949",
   "metadata": {},
   "outputs": [],
   "source": [
    "topic_list = [\n",
    "    \"nasa\", \"local government\", \"engineering\", \n",
    "    \"employee satisfaction\", \"federal government\"\n",
    "]"
   ]
  },
  {
   "cell_type": "markdown",
   "id": "7cc66c49",
   "metadata": {},
   "source": [
    "## Make a news alert for certain topics"
   ]
  },
  {
   "cell_type": "code",
   "execution_count": 15,
   "id": "bc2b841a",
   "metadata": {},
   "outputs": [
    {
     "name": "stdout",
     "output_type": "stream",
     "text": [
      "nasa: 1\n",
      "local government: 0\n",
      "engineering: 0\n",
      "employee satisfaction: 1\n",
      "federal government: 1\n"
     ]
    }
   ],
   "source": [
    "prompt = f\"\"\"\n",
    "Determine whether each item in the following list of \\\n",
    "topics is a topic in the text below, which\n",
    "is delimited with triple ticks.\n",
    "\n",
    "Give your answer as list with 0 or 1 for each topic.\\\n",
    "\n",
    "List of topics: {\", \".join(topic_list)}\n",
    "\n",
    "Text sample: '''{story}'''\n",
    "\"\"\"\n",
    "response = get_completion(prompt)\n",
    "print(response)"
   ]
  },
  {
   "cell_type": "markdown",
   "id": "b9dd803e",
   "metadata": {},
   "source": [
    "### Experimentando con Datos propios"
   ]
  },
  {
   "cell_type": "code",
   "execution_count": 21,
   "id": "6d81afc2",
   "metadata": {},
   "outputs": [],
   "source": [
    "bauStory = f\"\"\"\n",
    "BAU Dollar: Este beneficio permite a los colaboradores recibir una parte de su sueldo en dólares, siempre y cuando cumplan con ciertos requisitos. La retención de impuestos es la misma que para el sueldo en pesos.\n",
    "BAU Lunch: Este beneficio ofrece a los colaboradores la posibilidad de recibir un monto mensual para utilizar en la compra de almuerzos. La periodicidad de las acreditaciones varía según el país. En algunos casos, es necesario registrarse en la App de PedidosYa para acceder al beneficio.\n",
    "BAU Net: Este beneficio ofrece a los colaboradores un monto mensual para utilizar en el pago de servicios de internet. Es necesario presentar un comprobante de validez legal para acceder al beneficio.\n",
    "BAU Health: Este beneficio ofrece a los colaboradores la posibilidad de recibir un reembolso por actividades físicas realizadas en un trimestre determinado. Es necesario presentar comprobantes de validez legal para acceder al beneficio.\n",
    "Anti Tráfico: Este beneficio ofrece a los colaboradores la posibilidad de elegir un rango horario para evitar el tráfico en su traslado al trabajo. Se espera que una vez elegido un rango, se mantenga estable por al menos un mes.\n",
    "BAU Lunch Latam: Este beneficio ofrece a los colaboradores la posibilidad de recibir un monto mensual para utilizar en la compra de almuerzos. Los valores de las acreditaciones varían según el país. Es necesario cumplir con ciertos requisitos para acceder al beneficio.\n",
    "BAU Home Latam: Este beneficio ofrece a los colaboradores la posibilidad de recibir un monto mensual para utilizar en el pago de servicios de internet. Es necesario presentar un comprobante de validez legal para acceder al beneficio. Es importante tener en cuenta que algunos de estos beneficios tienen requisitos específicos para acceder a ellos y que es recomendable consultar periódicamente las tablas de comisiones o con el ejecutivo de cuenta para obtener información actualizada.\n",
    "\"\"\"\n",
    "bauTopicQuestion = [\"Health\", \"Lunch\", \"Tráfico\", \"Anti Tráfico\", \"evitar tráfico\"]\n"
   ]
  },
  {
   "cell_type": "code",
   "execution_count": 22,
   "id": "5dd76903",
   "metadata": {},
   "outputs": [
    {
     "name": "stdout",
     "output_type": "stream",
     "text": [
      "BAU Dollar, BAU Lunch, BAU Net, BAU Health, Anti Tráfico.\n"
     ]
    }
   ],
   "source": [
    "prompt = f\"\"\"\n",
    "Determina cinco temas que están siendo discutidos en \\\n",
    "el siguiente texto que está delimitado por tres comillas \\\n",
    "simples.\n",
    "\n",
    "Has cada tema de una o dos palabras de longitud.\n",
    "\n",
    "Formatea tu respuesta como una lista de temas separados por comas.\n",
    "\n",
    "Texto muestra: '''{bauStory}'''\n",
    "\"\"\"\n",
    "response = get_completion(prompt)\n",
    "print(response)"
   ]
  },
  {
   "cell_type": "code",
   "execution_count": 23,
   "id": "2a06783d",
   "metadata": {},
   "outputs": [
    {
     "name": "stdout",
     "output_type": "stream",
     "text": [
      "Health - Sí\n",
      "Lunch - Sí\n",
      "Tráfico - No\n",
      "Anti Tráfico - Sí\n",
      "evitar tráfico - No\n"
     ]
    }
   ],
   "source": [
    "prompt = f\"\"\"\n",
    "Determine si cada elemento en la siguiente lista de \\\n",
    "temas es un tema en el texto siguiente, que\n",
    "está delimitado por tres comillas simples.\n",
    "\n",
    "Proporcione su respuesta como una lista con si o no en cada tema.\n",
    "\n",
    "Lista de temas: {\", \".join(bauTopicQuestion)}\n",
    "\n",
    "Texto muestra: '''{bauStory}'''\n",
    "\"\"\"\n",
    "response = get_completion(prompt)\n",
    "print(response)"
   ]
  },
  {
   "cell_type": "code",
   "execution_count": 24,
   "id": "c1de4ade",
   "metadata": {},
   "outputs": [
    {
     "name": "stdout",
     "output_type": "stream",
     "text": [
      "Beneficios laborales: BAU Dollar, BAU Lunch, BAU Net, BAU Health, Anti Tráfico, BAU Lunch Latam, BAU Home Latam.\n"
     ]
    }
   ],
   "source": [
    "prompt = f\"\"\"\n",
    "Determina los temas que están siendo discutidos en \\\n",
    "el siguiente texto que está delimitado por tres comillas \\\n",
    "simples.\n",
    "\n",
    "Describe cada tema con una o dos palabras de longitud.\n",
    "\n",
    "Formatea tu respuesta como una lista de temas separados por comas.\n",
    "\n",
    "Texto muestra: '''{bauStory}'''\n",
    "\"\"\"\n",
    "response = get_completion(prompt)\n",
    "print(response)"
   ]
  },
  {
   "cell_type": "code",
   "execution_count": 25,
   "id": "2ae774c9",
   "metadata": {},
   "outputs": [
    {
     "name": "stdout",
     "output_type": "stream",
     "text": [
      "- Health: Sí\n",
      "- Lunch: Sí\n",
      "- Tráfico: No\n",
      "- Anti Tráfico: Sí (parcialmente)\n",
      "- evitar tráfico: No\n"
     ]
    }
   ],
   "source": [
    "prompt = f\"\"\"\n",
    "Determina si cada elemento en la lista de \\\n",
    "temas es un tema en el texto que está delimitado \\\n",
    "por tres comillas simples.\n",
    "\n",
    "Proporciona tu respuesta como una lista con si, no o parcialmente \\\n",
    "en cada tema que si coincida, no coincida o parcialmente coincida.\n",
    "\n",
    "Lista de temas: {\", \".join(bauTopicQuestion)}\n",
    "\n",
    "Ficha técnica: '''{bauStory}'''\n",
    "\"\"\"\n",
    "response = get_completion(prompt)\n",
    "print(response)"
   ]
  },
  {
   "cell_type": "code",
   "execution_count": 26,
   "id": "d840241b",
   "metadata": {},
   "outputs": [
    {
     "name": "stdout",
     "output_type": "stream",
     "text": [
      "Health: Sí (se menciona el beneficio de reembolso por actividades físicas)\n",
      "Lunch: Sí (se mencionan dos beneficios relacionados con la compra de almuerzos)\n",
      "Tráfico: No (no se menciona el tema del tráfico en el texto)\n",
      "Anti Tráfico: Sí (se menciona el beneficio de elegir un rango horario para evitar el tráfico)\n",
      "Evitar tráfico: Parcialmente (se menciona el beneficio de Anti Tráfico, pero no se menciona específicamente la idea de \"evitar\" el tráfico)\n"
     ]
    }
   ],
   "source": [
    "prompt = f\"\"\"\n",
    "Determina si cada elemento en la lista de \\\n",
    "temas es un tema en el texto que está delimitado \\\n",
    "por tres comillas simples.\n",
    "\n",
    "Proporciona tu respuesta como una lista con si, no o parcialmente \\\n",
    "en cada tema que si coincida, no coincida o parcialmente coincida.\n",
    "\n",
    "Si tu respuesta es parcialmente, justifica por que la coincidencia es parcial\n",
    "\n",
    "Lista de temas: {\", \".join(bauTopicQuestion)}\n",
    "\n",
    "Ficha técnica: '''{bauStory}'''\n",
    "\"\"\"\n",
    "response = get_completion(prompt)\n",
    "print(response)"
   ]
  },
  {
   "cell_type": "code",
   "execution_count": 27,
   "id": "2c8b19e2",
   "metadata": {},
   "outputs": [
    {
     "name": "stdout",
     "output_type": "stream",
     "text": [
      "- Health: Sí (Se menciona el beneficio BAU Health)\n",
      "- Lunch: Sí (Se mencionan los beneficios BAU Lunch y BAU Lunch Latam)\n",
      "- Tráfico: No (No se menciona el tema del tráfico en el texto)\n",
      "- Anti Tráfico: Sí (Se menciona el beneficio Anti Tráfico)\n",
      "- Evitar tráfico: Parcialmente (Se menciona el beneficio Anti Tráfico que ofrece la posibilidad de elegir un rango horario para evitar el tráfico en el traslado al trabajo, pero no se menciona específicamente el tema de \"evitar tráfico\")\n"
     ]
    }
   ],
   "source": [
    "prompt = f\"\"\"\n",
    "Determina si cada elemento en la lista de \\\n",
    "temas es un tema en el texto que está delimitado \\\n",
    "por tres comillas simples.\n",
    "\n",
    "Proporciona tu respuesta como una lista con si, no o parcialmente \\\n",
    "en cada tema que si coincida, no coincida o parcialmente coincida.\n",
    "\n",
    "En cada respuesta justifica entre paréntesis la coincidencia o no.\n",
    "\n",
    "Lista de temas: {\", \".join(bauTopicQuestion)}\n",
    "\n",
    "Ficha técnica: '''{bauStory}'''\n",
    "\"\"\"\n",
    "response = get_completion(prompt)\n",
    "print(response)"
   ]
  },
  {
   "cell_type": "code",
   "execution_count": 29,
   "id": "b17a055b",
   "metadata": {},
   "outputs": [
    {
     "name": "stdout",
     "output_type": "stream",
     "text": [
      "Health - Sí (Se menciona explícitamente el beneficio de salud para los colaboradores)\n",
      "Lunch - Sí (Se menciona explícitamente el beneficio de almuerzo para los colaboradores)\n",
      "Tráfico - No (No se menciona el tema del tráfico en el texto)\n",
      "Anti Tráfico - Sí (Se menciona explícitamente el beneficio de evitar el tráfico en el traslado al trabajo)\n",
      "evitar tráfico - No (No se menciona el tema del tráfico en el texto)\n"
     ]
    }
   ],
   "source": [
    "prompt = f\"\"\"\n",
    "Determines whether each element in the list of topics\\\n",
    "is a topic in the text that is delimited by three single quotes.\n",
    "\n",
    "Provide your answer as a list with yes, no, or partially \\\n",
    "for each topic that does match, does not match or partially matches.\n",
    "\n",
    "For each answer explain the coincidence or not in parentheses.\n",
    "\n",
    "Your answer must be in spanish.\n",
    "\n",
    "List of topics: {\", \".join(bauTopicQuestion)}\n",
    "\n",
    "Story: '''{bauStory}'''\n",
    "\"\"\"\n",
    "response = get_completion(prompt)\n",
    "print(response)"
   ]
  },
  {
   "cell_type": "code",
   "execution_count": null,
   "id": "2cd37ddb",
   "metadata": {},
   "outputs": [],
   "source": []
  }
 ],
 "metadata": {
  "kernelspec": {
   "display_name": "Python 3 (ipykernel)",
   "language": "python",
   "name": "python3"
  },
  "language_info": {
   "codemirror_mode": {
    "name": "ipython",
    "version": 3
   },
   "file_extension": ".py",
   "mimetype": "text/x-python",
   "name": "python",
   "nbconvert_exporter": "python",
   "pygments_lexer": "ipython3",
   "version": "3.11.5"
  }
 },
 "nbformat": 4,
 "nbformat_minor": 5
}
